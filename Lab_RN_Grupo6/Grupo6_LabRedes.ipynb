{
  "cells": [
    {
      "cell_type": "markdown",
      "metadata": {
        "id": "41TXUwo9qaCK"
      },
      "source": [
        "###Codigo e implementación https://github.com/Psychofun/Red-Neuronal-Numpy\n",
        "Autor: PsyFun\n",
        "##Preprocesamiento de los datos, para estandarizar (\"gre\",\"gpa\") e individualizar la caracteristica categorica \"rank\""
      ]
    },
    {
      "cell_type": "code",
      "execution_count": null,
      "metadata": {
        "colab": {
          "base_uri": "https://localhost:8080/"
        },
        "id": "AJZTjn-Jk-NB",
        "outputId": "554384ed-b34c-488d-b264-e688ef9651f6"
      },
      "outputs": [
        {
          "output_type": "stream",
          "name": "stdout",
          "text": [
            "            admit         gre         gpa       rank\n",
            "count  400.000000  400.000000  400.000000  400.00000\n",
            "mean     0.317500  587.700000    3.389900    2.48500\n",
            "std      0.466087  115.516536    0.380567    0.94446\n",
            "min      0.000000  220.000000    2.260000    1.00000\n",
            "25%      0.000000  520.000000    3.130000    2.00000\n",
            "50%      0.000000  580.000000    3.395000    2.00000\n",
            "75%      1.000000  660.000000    3.670000    3.00000\n",
            "max      1.000000  800.000000    4.000000    4.00000\n",
            "(400, 4)\n",
            "   admit  gre   gpa  rank\n",
            "0      0  380  3.61     3\n",
            "1      1  660  3.67     3\n",
            "2      1  800  4.00     1\n",
            "3      1  640  3.19     4\n",
            "4      0  520  2.93     4\n"
          ]
        }
      ],
      "source": [
        "import numpy as np\n",
        "import pandas as pd\n",
        "\n",
        "admissions = pd.read_csv('./binary.csv')\n",
        "print(admissions.describe())\n",
        "print(admissions.shape)\n",
        "print(admissions.head())"
      ]
    },
    {
      "cell_type": "markdown",
      "metadata": {
        "id": "U9XG_Iz8sAaa"
      },
      "source": [
        "#Conversion de una variable categorica \"rank\" a variables binarias \"rank_1\",\"rank_2\",\"rank_3\", \"rank_4\""
      ]
    },
    {
      "cell_type": "code",
      "execution_count": null,
      "metadata": {
        "colab": {
          "base_uri": "https://localhost:8080/"
        },
        "id": "FcgNCowrsIVz",
        "outputId": "6bbf294b-3e6b-40ca-9a11-0f479bf90178"
      },
      "outputs": [
        {
          "output_type": "stream",
          "name": "stdout",
          "text": [
            "            admit         gre         gpa       rank      rank_1      rank_2  \\\n",
            "count  400.000000  400.000000  400.000000  400.00000  400.000000  400.000000   \n",
            "mean     0.317500  587.700000    3.389900    2.48500    0.152500    0.377500   \n",
            "std      0.466087  115.516536    0.380567    0.94446    0.359955    0.485369   \n",
            "min      0.000000  220.000000    2.260000    1.00000    0.000000    0.000000   \n",
            "25%      0.000000  520.000000    3.130000    2.00000    0.000000    0.000000   \n",
            "50%      0.000000  580.000000    3.395000    2.00000    0.000000    0.000000   \n",
            "75%      1.000000  660.000000    3.670000    3.00000    0.000000    1.000000   \n",
            "max      1.000000  800.000000    4.000000    4.00000    1.000000    1.000000   \n",
            "\n",
            "           rank_3      rank_4  \n",
            "count  400.000000  400.000000  \n",
            "mean     0.302500    0.167500  \n",
            "std      0.459916    0.373889  \n",
            "min      0.000000    0.000000  \n",
            "25%      0.000000    0.000000  \n",
            "50%      0.000000    0.000000  \n",
            "75%      1.000000    0.000000  \n",
            "max      1.000000    1.000000  \n",
            "(400, 7)\n",
            "   admit  gre   gpa  rank_1  rank_2  rank_3  rank_4\n",
            "0      0  380  3.61       0       0       1       0\n",
            "1      1  660  3.67       0       0       1       0\n",
            "2      1  800  4.00       1       0       0       0\n",
            "3      1  640  3.19       0       0       0       1\n",
            "4      0  520  2.93       0       0       0       1\n"
          ]
        }
      ],
      "source": [
        "data = pd.concat([admissions, pd.get_dummies(admissions['rank'], prefix='rank')], axis=1)\n",
        "print(data.describe())\n",
        "data = data.drop('rank', axis=1)\n",
        "print(data.shape)\n",
        "print(data.head())"
      ]
    },
    {
      "cell_type": "markdown",
      "metadata": {
        "id": "fmEtWaKru5at"
      },
      "source": [
        "Estandarizacion de las variables (\"gre\",\"gpa\")"
      ]
    },
    {
      "cell_type": "code",
      "execution_count": null,
      "metadata": {
        "colab": {
          "base_uri": "https://localhost:8080/"
        },
        "id": "X5SSkXX3u5nl",
        "outputId": "bdd1d536-7e9a-4f43-9f0f-13338f70fbe7"
      },
      "outputs": [
        {
          "output_type": "stream",
          "name": "stdout",
          "text": [
            "(400, 7)\n",
            "            admit           gre           gpa      rank_1      rank_2  \\\n",
            "count  400.000000  4.000000e+02  4.000000e+02  400.000000  400.000000   \n",
            "mean     0.317500 -3.907985e-16  2.198242e-16    0.152500    0.377500   \n",
            "std      0.466087  1.000000e+00  1.000000e+00    0.359955    0.485369   \n",
            "min      0.000000 -3.183094e+00 -2.968993e+00    0.000000    0.000000   \n",
            "25%      0.000000 -5.860633e-01 -6.829288e-01    0.000000    0.000000   \n",
            "50%      0.000000 -6.665712e-02  1.340106e-02    0.000000    0.000000   \n",
            "75%      1.000000  6.258844e-01  7.360075e-01    0.000000    1.000000   \n",
            "max      1.000000  1.837832e+00  1.603135e+00    1.000000    1.000000   \n",
            "\n",
            "           rank_3      rank_4  \n",
            "count  400.000000  400.000000  \n",
            "mean     0.302500    0.167500  \n",
            "std      0.459916    0.373889  \n",
            "min      0.000000    0.000000  \n",
            "25%      0.000000    0.000000  \n",
            "50%      0.000000    0.000000  \n",
            "75%      1.000000    0.000000  \n",
            "max      1.000000    1.000000  \n"
          ]
        }
      ],
      "source": [
        "# Standarize features\n",
        "for field in ['gre', 'gpa']:\n",
        "    mean, std = data[field].mean(), data[field].std()\n",
        "    data.loc[:,field] = (data[field]-mean)/std\n",
        "print(data.shape)\n",
        "print(data.describe())"
      ]
    },
    {
      "cell_type": "markdown",
      "metadata": {
        "id": "PVB1VUJJ3bSb"
      },
      "source": [
        "dividir el conjunto de datos para entrenamiento y evaluación del modelo"
      ]
    },
    {
      "cell_type": "code",
      "execution_count": null,
      "metadata": {
        "colab": {
          "base_uri": "https://localhost:8080/"
        },
        "id": "tPSE6sC84O8F",
        "outputId": "b6f6fc45-4047-4577-8a46-1ef2704b175a"
      },
      "outputs": [
        {
          "output_type": "stream",
          "name": "stdout",
          "text": [
            "RangeIndex(start=0, stop=400, step=1)\n"
          ]
        }
      ],
      "source": [
        "print(data.index)"
      ]
    },
    {
      "cell_type": "code",
      "execution_count": null,
      "metadata": {
        "colab": {
          "base_uri": "https://localhost:8080/"
        },
        "id": "SylZqIL930bt",
        "outputId": "65a8fb07-f4b2-4ea0-d418-e60d30fe7ed0"
      },
      "outputs": [
        {
          "output_type": "stream",
          "name": "stdout",
          "text": [
            "(360, 7)\n",
            "(40, 7)\n"
          ]
        }
      ],
      "source": [
        "# Split off random 10% of the data for testing\n",
        "np.random.seed(21)\n",
        "# Obtiene 360 registros random para entrenar el modelo\n",
        "sample = np.random.choice(data.index, size=int(len(data)*0.9), replace=False)\n",
        "\"\"\"print(sample)\"\"\"\n",
        "train_data, test_data = data.iloc[sample], data.drop(sample)\n",
        "print(train_data.shape)\n",
        "print(test_data.shape)"
      ]
    },
    {
      "cell_type": "markdown",
      "metadata": {
        "id": "J1pEVm7X473r"
      },
      "source": [
        "División de los datos en caracteristicas y etiquetas"
      ]
    },
    {
      "cell_type": "code",
      "execution_count": null,
      "metadata": {
        "id": "vdlScpB946Py"
      },
      "outputs": [],
      "source": [
        "features, targets = train_data.drop('admit', axis=1), train_data['admit']\n",
        "features_test, targets_test = test_data.drop('admit', axis=1), test_data['admit']"
      ]
    },
    {
      "cell_type": "code",
      "source": [
        "len([(x,y) for x,y in (zip(features.values,targets))])\n",
        "print"
      ],
      "metadata": {
        "colab": {
          "base_uri": "https://localhost:8080/"
        },
        "id": "q6JDmI3FSmlT",
        "outputId": "3853d755-18ef-49e3-8da7-1c5d389eb949"
      },
      "execution_count": null,
      "outputs": [
        {
          "output_type": "execute_result",
          "data": {
            "text/plain": [
              "<function print>"
            ]
          },
          "metadata": {},
          "execution_count": 8
        }
      ]
    },
    {
      "cell_type": "markdown",
      "metadata": {
        "id": "WKkMs94U5MBm"
      },
      "source": []
    },
    {
      "cell_type": "markdown",
      "metadata": {
        "id": "6GDBHBbT5WtC"
      },
      "source": [
        "Función de Activación"
      ]
    },
    {
      "cell_type": "code",
      "execution_count": null,
      "metadata": {
        "id": "3X5cn6oa5amd"
      },
      "outputs": [],
      "source": [
        "def sigmoide(x):\n",
        "    return 1/(1 + np.exp(-x))"
      ]
    },
    {
      "cell_type": "code",
      "execution_count": null,
      "metadata": {
        "colab": {
          "base_uri": "https://localhost:8080/"
        },
        "id": "_5PDFAdG5TIm",
        "outputId": "fc5184e9-2708-45b7-afb5-90767c05f129"
      },
      "outputs": [
        {
          "output_type": "stream",
          "name": "stdout",
          "text": [
            "Costo de entrenamiento:  0.22749585224305116\n",
            "Costo de entrenamiento:  0.2269025619637309\n",
            "Costo de entrenamiento:  0.22633680141776774\n",
            "Costo de entrenamiento:  0.22579695855377327\n",
            "Costo de entrenamiento:  0.22528152075551738\n",
            "Costo de entrenamiento:  0.22478906897245235\n",
            "Costo de entrenamiento:  0.22431827212743183\n",
            "Costo de entrenamiento:  0.2238678818008567\n",
            "Costo de entrenamiento:  0.22343672718793942\n",
            "Costo de entrenamiento:  0.2230237103237552\n",
            "Precisión: 0.650\n"
          ]
        }
      ],
      "source": [
        "# Hyperparameters\n",
        "n_hidden = 2 # Número de unidades en la capa escondida\n",
        "epochs = 1000 # Número de iteraciones sobre el conjunto de entrenamiento\n",
        "alpha = 0.01 # Taza de aprendizaje\n",
        "\n",
        "ult_costo = None \n",
        "\n",
        "m,k = features.shape # Número de ejemplos de entrenamiento, número de dimensiones en los datos \n",
        "\n",
        "# Inicialización de los pesos\n",
        "\n",
        "entrada_escondida = np.random.normal(scale = 1/k**0.5, size = (k,n_hidden))\n",
        "escondida_salida = np.random.normal(scale = 1/k**0.5,size = n_hidden)\n",
        "\n",
        "\n",
        "# Entrenamiento\n",
        "for e in range(epochs):\n",
        "    # Variables para el gradiente\n",
        "    gradiente_entrada_escondida = np.zeros(entrada_escondida.shape)\n",
        "    gradiente_escondida_salida =  np.zeros(escondida_salida.shape)\n",
        "    # Itera sobre el conjunto de entrenamiento\n",
        "    for x,y in zip(features.values,targets):\n",
        "        # Pasada hacia adelande (forward pass) or forward propagation\n",
        "          # Entrada --> capa 1\n",
        "        z = sigmoide(np.matmul(x, entrada_escondida))\n",
        "          # Capa 1 --> salida\n",
        "        y_ =sigmoide(np.matmul(escondida_salida,z)) # predicción \n",
        "  \n",
        "        # Pasada hacia atrás (backward pass)\n",
        "        salida_error = (y - y_) * y_ *(1- y_) # --> derivada de la funcion sigmoide\n",
        "        # cambia los pesos de la capa oculta o escondida según el delta hallado (salida error)\n",
        "        escondida_error = np.dot(salida_error, escondida_salida) * z * (1 -z)\n",
        "\n",
        "        gradiente_entrada_escondida += escondida_error * x[:,None]\n",
        "        gradiente_escondida_salida += salida_error * z \n",
        "    # Actualiza los parámetros (pesos)\n",
        "    entrada_escondida += alpha * gradiente_entrada_escondida / m \n",
        "    escondida_salida +=  alpha * gradiente_escondida_salida / m \n",
        "\n",
        "    if e % (epochs / 10 ) == 0: # Cada 100 iteraciones se actualiza\n",
        "        z = sigmoide(np.dot(features.values, entrada_escondida))\n",
        "        y_ = sigmoide(np.dot(z, escondida_salida))\n",
        "        # Función de costo\n",
        "        costo = np.mean(( y_ - targets)**2 )\n",
        "        if ult_costo  and ult_costo < costo:\n",
        "            print(\"Costo de  entrenamiento: \", costo, \" ADVERTENCIA -  Costo subiendo\")\n",
        "        else:\n",
        "            print(\"Costo de entrenamiento: \", costo )\n",
        "        ult_costo = costo \n",
        "\n",
        "#  Precisión en los datos de prueba \n",
        "z = sigmoide(np.dot(features_test, entrada_escondida))\n",
        "y_ = sigmoide(np.dot(z, escondida_salida))\n",
        "\n",
        "predicciones =  y_ > 0.5 \n",
        "precision = np.mean(predicciones == targets_test)\n",
        "print(\"Precisión: {:.3f}\".format(precision))\n",
        "\n",
        "\n"
      ]
    },
    {
      "cell_type": "markdown",
      "source": [
        "# **SOLUCIÓN LABORATORIO**"
      ],
      "metadata": {
        "id": "XCrdaxqFarjA"
      }
    },
    {
      "cell_type": "markdown",
      "source": [
        "## **Punto 1**\n",
        "Hacer un análisis específico de complejidad en tiempo Big O() del algoritmo de entrenamiento de redes neuronales gradiente descendente, diga sobre esta complejidad, **¿cuál de los parámetros de la red neuronal afecta en mayor medida el consumo de tiempo?**\n"
      ],
      "metadata": {
        "id": "_HGMjKgUOtzX"
      }
    },
    {
      "cell_type": "markdown",
      "source": [
        "\n",
        "```\n",
        "# Hyperparameters\n",
        "n_hidden = 2 # ---------------------------------------                                    O(1)\n",
        "epochs = 10 # ----------------------------------------                                    O(1)\n",
        "alpha = 0.01 # ---------------------------------------                                    O(1)\n",
        "\n",
        "ult_costo = None # -----------------------------------                                    O(1)\n",
        "\n",
        "m,k = features.shape # -------------------------------                                    O(1)\n",
        "\n",
        "# Inicialización de los pesos\n",
        "\n",
        "entrada_escondida = np.random.normal(scale = 1/k**0.5, size = (k,n_hidden)) # --------    O(1)\n",
        "escondida_salida = np.random.normal(scale = 1/k**0.5,size = n_hidden) # --------------    O(1)\n",
        "\n",
        "# Entrenamiento\n",
        "for e in range(epochs): # ---------------------------------------                         O(e)\n",
        "    # Variables para el gradiente\n",
        "    gradiente_entrada_escondida = np.zeros(entrada_escondida.shape) # -----------------   O(1)\n",
        "    gradiente_escondida_salida =  np.zeros(escondida_salida.shape) # ------------------   O(1)\n",
        "    # Itera sobre el conjunto de entrenamiento\n",
        "    for x,y in zip(features.values,targets): # -----------------------                    O(90%-d)\n",
        "        # Pasada hacia adelande (forward pass) or forward propagation\n",
        "          # Entrada --> capa 1\n",
        "        z = sigmoide(np.matmul(x, entrada_escondida)) # --------------                    O(k^2.8)\n",
        "          # Capa 1 --> salida\n",
        "        y_ =sigmoide(np.matmul(escondida_salida,z)) # predicción # --------------------   O(n_hidden^2.8)\n",
        "  \n",
        "        # Pasada hacia atrás (backward pass)\n",
        "        salida_error = (y - y_) * y_ *(1- y_) # ---------------------------------------   O(1)\n",
        "        \n",
        "        escondida_error = np.dot(salida_error, escondida_salida) * z * (1 -z) # -------   O(n_hidden) --> Complejidad np.dot() = O(n)\n",
        "\n",
        "        gradiente_entrada_escondida += escondida_error * x[:,None] # ------------------   O(1)\n",
        "        gradiente_escondida_salida += salida_error * z # ------------------------------   O(1)\n",
        "    # Actualiza los parámetros (pesos)\n",
        "    entrada_escondida += alpha * gradiente_entrada_escondida / m # --------------------   O(1)\n",
        "    escondida_salida +=  alpha * gradiente_escondida_salida / m # ---------------------   O(1)\n",
        "\n",
        "    if e % (epochs / 10 ) == 0: \n",
        "        z = sigmoide(np.dot(features.values, entrada_escondida)) # --------------------   O(k)\n",
        "        y_ = sigmoide(np.dot(z, escondida_salida)) # ----------------------------------   O(n_hidden)\n",
        "\n",
        "        # Función de costo\n",
        "        costo = np.mean(( y_ - targets)**2 ) # ----------------------------------------   O(1)\n",
        "\n",
        "        if ult_costo  and ult_costo < costo:\n",
        "            print(\"Costo de  entrenamiento: \", costo, \n",
        "                  \" ADVERTENCIA -  Costo subiendo\") # ----------------------------------  O(1)\n",
        "        else:\n",
        "            print(\"Costo de entrenamiento: \", costo ) # --------------------------------  O(1)\n",
        "        \n",
        "        ult_costo = costo # ---------------------------------------                       O(1)\n",
        "\n",
        "#  Precisión en los datos de prueba \n",
        "z = sigmoide(np.dot(features_test, entrada_escondida)) # ---------------------------      O(k)\n",
        "y_ = sigmoide(np.dot(z, escondida_salida)) # ---------------------------------------      O(n_hidden)\n",
        "\n",
        "predicciones =  y_ > 0.5 # ---------------------------------------                        O(1)\n",
        "precision = np.mean(predicciones == targets_test) # --------------                        O(1)\n",
        "print(\"Precisión: {:.3f}\".format(precision)) # -------------------                        O(1)\n",
        "\n",
        "\n",
        "```\n",
        "\n",
        "Así, la complejidad estaría dada por:\n",
        "```\n",
        "Big O = 7*O(1) + O(e)[2*O(1) + O(90%-d)[O(k^2.8) + 2*O(n_hidden^2.8) + 3*O(1)] + 2*O(1) + O(k) + O(n_hidden) + 4*O(1)] + O(k) + O(n_hidden) + 4*O(1)\n",
        "      = O(e)*O(90%-d)[O(k^2.8) + *O(n_hidden^2.8)] + O(e)*(O(k) + O(n_hidden)) + O(k) + O(n_hidden)\n",
        "```\n",
        "Donde:\n",
        "\n",
        "      *e          = Épocas\n",
        "      *90%-d      = Datos de entrenamiento \n",
        "      *k          = Número de dimensiones en los datos \n",
        "      *n_hidden   = Número de unidades en la capa escondida\n",
        "\n",
        "Y el parámetro que más afecta el tiempo de ejecución del algoritmo es la cantidad de datos de entrenamiento, junto con la cantidad de épocas"
      ],
      "metadata": {
        "id": "XSi7L18haX3X"
      }
    },
    {
      "cell_type": "markdown",
      "source": [
        "## **Punto 2**\n",
        "Construir un experimento, que le permita encontrar la cantidad de épocas suficientes, para entrenar esta red neuronal con los mismos datos."
      ],
      "metadata": {
        "id": "eXQNLTsNgTrK"
      }
    },
    {
      "cell_type": "markdown",
      "source": [
        "### **Solución**\n",
        "El experimento consistió en realizar 20 iteraciones variando las épocas de 10 en 10, donde se observó una gráfica en la cual el comportamiento de la precisión variaba en las primeras iteraciones, es decir, en las épocas iniciales, y entre más aumentaba el número de épocas, la función se normalizaba y mostraba una tendencia marcada hacia una precisión de 0.650. Cabe resaltar que los comportamientos del entrenamiento variaban cada vez que se ejecutaba, pero en cada ejecución la función terminaba convergiendo al valor dicho anteriormente."
      ],
      "metadata": {
        "id": "A3Cctrw3ao9_"
      }
    },
    {
      "cell_type": "markdown",
      "source": [
        "![93f497c5-49ee-4266-bf6e-1be27df4f4cb.jpeg](data:image/jpeg;base64,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)"
      ],
      "metadata": {
        "id": "bm-4hxaxh5fg"
      }
    },
    {
      "cell_type": "markdown",
      "source": [
        "![eb57827b-ada8-4997-aa31-f2e17520e667.jpeg](data:image/jpeg;base64,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)\n",
        "\n",
        "El código se modificó de la siguiente manera para obtener los valores presentados en las gráficas:"
      ],
      "metadata": {
        "id": "vZRfDiMzh9kS"
      }
    },
    {
      "cell_type": "markdown",
      "source": [
        "\n",
        "\n",
        "```\n",
        "...\n",
        "# Inicialización de los pesos\n",
        "entrada_escondidainit = np.random.normal(scale = 1/k**0.5, size = (k,n_hidden))\n",
        "escondida_salidainit = np.random.normal(scale = 1/k**0.5,size = n_hidden) \n",
        "\n",
        "# Entrenamiento\n",
        "for i in range (20):\n",
        "  entrada_escondida = entrada_escondidainit\n",
        "  escondida_salida = escondida_salidainit\n",
        "  lista_epocas.append(epochs)\n",
        "  epochs+=10\n",
        "  \n",
        "  for e in range(epochs): \n",
        "  ...\n",
        "```\n",
        "\n"
      ],
      "metadata": {
        "id": "nTpe2O93gxQJ"
      }
    },
    {
      "cell_type": "markdown",
      "source": [
        "## **Punto 3**\n",
        "\n",
        "Evalúe y compare la función de activación tanh(), para las neuronas de la capa oculta y cambie por ende su derivada en el cálculo de las variaciones de dW.\n",
        "¿Cuál es el efecto del cambio en el rendimiento de la red neuronal?"
      ],
      "metadata": {
        "id": "Q6Kja4vRvtEq"
      }
    },
    {
      "cell_type": "code",
      "source": [
        "def tanh(x):\n",
        "  return np.tanh(x)"
      ],
      "metadata": {
        "id": "PuQ4liWu0Iat"
      },
      "execution_count": null,
      "outputs": []
    },
    {
      "cell_type": "code",
      "source": [
        "# Hyperparameters\n",
        "n_hidden = 2 \n",
        "epochs = 1000 \n",
        "alpha = 0.01 \n",
        "\n",
        "ult_costo = None \n",
        "\n",
        "m,k = features.shape \n",
        "\n",
        "# Inicialización de los pesos\n",
        "entrada_escondida = np.random.normal(scale = 1/k**0.5, size = (k,n_hidden))\n",
        "escondida_salida = np.random.normal(scale = 1/k**0.5,size = n_hidden)\n",
        "\n",
        "# Entrenamiento\n",
        "for e in range(epochs):\n",
        "    # Variables para el gradiente\n",
        "    gradiente_entrada_escondida = np.zeros(entrada_escondida.shape)\n",
        "    gradiente_escondida_salida =  np.zeros(escondida_salida.shape)\n",
        "\n",
        "    # Itera sobre el conjunto de entrenamiento\n",
        "    for x,y in zip(features.values,targets):\n",
        "        # Pasada hacia adelande (forward pass) or forward propagation\n",
        "\n",
        "        z = tanh(np.matmul(x, entrada_escondida))\n",
        "        y_ = tanh(np.matmul(escondida_salida,z)) # predicción \n",
        "  \n",
        "        # Pasada hacia atrás (backward pass)\n",
        "        salida_error = (y - y_) * (1/np.cosh(y_))**2 # --> cambio en la derivada de la funcion de activación\n",
        "        escondida_error = np.dot(salida_error, escondida_salida) * z * (1 -z)\n",
        "\n",
        "        gradiente_entrada_escondida += escondida_error * x[:,None]\n",
        "        gradiente_escondida_salida += salida_error * z \n",
        "\n",
        "    # Actualiza los parámetros (pesos)\n",
        "    entrada_escondida += alpha * gradiente_entrada_escondida / m \n",
        "    escondida_salida +=  alpha * gradiente_escondida_salida / m \n",
        "\n",
        "    if e % (epochs / 10 ) == 0: \n",
        "        z = tanh(np.dot(features.values, entrada_escondida))\n",
        "        y_ = tanh(np.dot(z, escondida_salida))\n",
        "        \n",
        "        # Función de costo\n",
        "        costo = np.mean(( y_ - targets)**2 )\n",
        "        if ult_costo  and ult_costo < costo:\n",
        "            print(\"Costo de  entrenamiento: \", costo, \" ADVERTENCIA -  Costo subiendo\")\n",
        "        else:\n",
        "            print(\"Costo de entrenamiento: \", costo )\n",
        "        ult_costo = costo \n",
        "\n",
        "#  Precisión en los datos de prueba \n",
        "z = tanh(np.dot(features_test, entrada_escondida))\n",
        "y_ = tanh(np.dot(z, escondida_salida))\n",
        "\n",
        "predicciones =  y_ > 0.5 \n",
        "precision = np.mean(predicciones == targets_test)\n",
        "print(\"Precisión: {:.3f}\".format(precision))\n"
      ],
      "metadata": {
        "colab": {
          "base_uri": "https://localhost:8080/"
        },
        "id": "b9AQQ8iRz4tD",
        "outputId": "b5d1bac2-b9e9-4f22-a4b6-e3b3c8236bed"
      },
      "execution_count": null,
      "outputs": [
        {
          "output_type": "stream",
          "name": "stdout",
          "text": [
            "Costo de entrenamiento:  0.3594044792626053\n",
            "Costo de entrenamiento:  0.3416545317829924\n",
            "Costo de entrenamiento:  0.3310996505767618\n",
            "Costo de entrenamiento:  0.3246847015960315\n",
            "Costo de entrenamiento:  0.3205891464064138\n",
            "Costo de entrenamiento:  0.31779094159928606\n",
            "Costo de entrenamiento:  0.31572536867753026\n",
            "Costo de entrenamiento:  0.31407945523367264\n",
            "Costo de entrenamiento:  0.3126780705001669\n",
            "Costo de entrenamiento:  0.31142223805277425\n",
            "Precisión: 0.650\n"
          ]
        }
      ]
    },
    {
      "cell_type": "markdown",
      "source": [
        "### **Respuesta:**\n",
        "Al cambiar la función de activación, el costo de entrenamiento de *tanh* fue mayor a comparación con la sigmoide, pero la precisión, para el número de épocas estipulado, fue el mismo.\n",
        "\n",
        "Debido a la naturaleza de la función tanh, la media de los valores de salida (y_) aumenta, y por ende, la diferencia entre esta y los valores esperados también lo hace, incrementándose así el costo.\n",
        "\n",
        "\n"
      ],
      "metadata": {
        "id": "KLU3fufo5_SJ"
      }
    }
  ],
  "metadata": {
    "colab": {
      "provenance": [],
      "collapsed_sections": [
        "41TXUwo9qaCK",
        "U9XG_Iz8sAaa"
      ]
    },
    "kernelspec": {
      "display_name": "Python 3",
      "name": "python3"
    },
    "language_info": {
      "name": "python"
    }
  },
  "nbformat": 4,
  "nbformat_minor": 0
}