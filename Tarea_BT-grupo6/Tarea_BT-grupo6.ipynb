{
  "nbformat": 4,
  "nbformat_minor": 0,
  "metadata": {
    "colab": {
      "provenance": [],
      "collapsed_sections": [],
      "include_colab_link": true
    },
    "kernelspec": {
      "name": "python3",
      "display_name": "Python 3"
    },
    "language_info": {
      "name": "python"
    }
  },
  "cells": [
    {
      "cell_type": "markdown",
      "metadata": {
        "id": "view-in-github",
        "colab_type": "text"
      },
      "source": [
        "<a href=\"https://colab.research.google.com/github/dianaamonrooy/Algoritmos/blob/main/Tarea_BT-grupo6/Tarea_BT-grupo6.ipynb\" target=\"_parent\"><img src=\"https://colab.research.google.com/assets/colab-badge.svg\" alt=\"Open In Colab\"/></a>"
      ]
    },
    {
      "cell_type": "markdown",
      "source": [
        "# Tarea BT\n",
        "**Grupo 6**\n",
        "*   Cabrales Jaque, Maria Fernanda\n",
        "*   Monroy Molina, Diana Valentina\n",
        "*   Pardo Machetts, Nicolas Felipe\n",
        "*   Peñafiel Ojeda, Juan Sebastian\n",
        "*   Tocua Perilla, Daniela\n"
      ],
      "metadata": {
        "id": "rcvAAVHet-Qd"
      }
    },
    {
      "cell_type": "markdown",
      "source": [
        "Código del árbol"
      ],
      "metadata": {
        "id": "OF2tyVCIuXTG"
      }
    },
    {
      "cell_type": "code",
      "execution_count": null,
      "metadata": {
        "id": "g4-8p0E4og86"
      },
      "outputs": [],
      "source": [
        "from copy import copy, deepcopy # Allows creating copies of custom objects\n",
        "# Python program to demonstrate searching operation in binary \n",
        "# search tree without recursion\n",
        "class newNode:\n",
        "    # Constructor to create a new node\n",
        "    def __init__(self, data, index, left = None, right = None):\n",
        "        self.data = data\n",
        "        self.left = left\n",
        "        self.right = right\n",
        "        self.index = index\n",
        "\n",
        "    # Allows copying the node object (online sources: Python Docs and Stack Overflow)\n",
        "    def __deepcopy__(self, memo): # memo is a dict of id's to copies\n",
        "        id_self = id(self)        # memoization avoids unnecesary recursion\n",
        "        _copy = memo.get(id_self)\n",
        "        if _copy is None:\n",
        "            _copy = type(self)(self.data,self.index,\n",
        "                deepcopy(self.left, memo), \n",
        "                deepcopy(self.right, memo))\n",
        "            memo[id_self] = _copy \n",
        "        return _copy\n",
        " \n",
        "# Function to check the given key exists or not\n",
        "def iterativeSearch(root, key):\n",
        "    # Traverse until root reaches to dead end\n",
        "    camino = []\n",
        "    savedRoot = deepcopy(root) # Creates a copy of the tree to modify and graph its path. \n",
        "    tempRoot = savedRoot\n",
        "    while tempRoot != None:\n",
        "        # pass right subtree as new tree\n",
        "        if key > tempRoot.data:\n",
        "            tempRoot.left = None #Saves only the data of the found path.\n",
        "            tempRoot = tempRoot.right \n",
        "            camino.append(\"Derecha\")\n",
        "        # pass left subtree as new tree\n",
        "        elif key < tempRoot.data:\n",
        "            tempRoot.right = None #Saves only the data of the found path.\n",
        "            tempRoot = tempRoot.left\n",
        "            camino.append(\"Izquierda\")           \n",
        "        else:\n",
        "            #Graphs the modified tree with the path to the specified node\n",
        "            print(\"\\nGráfico de la ruta:\")\n",
        "            graphTree(savedRoot) \n",
        "            return camino #True\n",
        "    return False\n",
        " \n",
        "# A utility function to insert a new Node with given key in BST\n",
        "def insert(Node, data, index):  \n",
        "    # If the tree is empty, return a new Node\n",
        "    if Node == None:\n",
        "        return newNode(data, index)\n",
        "    # Otherwise, recur down the tree\n",
        "    if data < Node.data:\n",
        "      Node.left = insert(Node.left, data, (Node.index*2 + 1))\n",
        "    elif data > Node.data:\n",
        "      Node.right = insert(Node.right, data, (Node.index*2 + 2))\n",
        "    # return the (unchanged) Node pointer\n",
        "    return Node"
      ]
    },
    {
      "cell_type": "markdown",
      "source": [
        "Funciones nuevas: **height** y **graphTree**"
      ],
      "metadata": {
        "id": "qH7lpB7yuuMn"
      }
    },
    {
      "cell_type": "code",
      "source": [
        "# Given the root, it returns the height of the tree\n",
        "def height(root):\n",
        "    # If the tree is empty, the height is 0\n",
        "    if root is None:\n",
        "        return 0 \n",
        "    # Using recursion to get the height of each branch\n",
        "    leftAns = height(root.left)\n",
        "    rightAns = height(root.right)\n",
        "    # Return the maximum height between the left and right branches\n",
        "    return max(leftAns, rightAns) + 1\n",
        "\n",
        "# Prints a graphic representation of the tree\n",
        "def graphTree(root):\n",
        "  # If there are no nodes, the function stops\n",
        "  if root == None:\n",
        "      return\n",
        "  # It saves the root in an array\n",
        "  nodes = [root]\n",
        "  # We get the height of the tree, it will be used several times\n",
        "  h = height(root)\n",
        "  # We create an array with size = maximum possible amount of nodes\n",
        "  tree = [\"   \"]*((2**h) - 1) \n",
        "  # We iterate the tree in a level-order way and for each node, we add\n",
        "  # its value into the array \"tree\", in the corresponding index\n",
        "  while len(nodes) != 0:\n",
        "      node = nodes.pop(0)\n",
        "      tree[node.index] = f'{str(node.data):<3}'\n",
        "      if node.left != None:\n",
        "          nodes.append(node.left)\n",
        "      if node.right != None:\n",
        "          nodes.append(node.right) \n",
        "  # Initialize the amount of formatting spaces used when printing\n",
        "  initIndex = 0\n",
        "  endIndex = 1\n",
        "  begginingSpace = ((2 ** h) - 2) * \" \"\n",
        "  middleSpaces = ((2 ** (h + 1)) - 3) * \" \"  \n",
        "  # Each tree level gets turned into a String following a defined formatting\n",
        "  levels = []\n",
        "  for i in range(1, h + 1):\n",
        "    levelText = begginingSpace + middleSpaces.join(tree[initIndex:endIndex])\n",
        "    levels.append(levelText)\n",
        "    # Updating the indexes for the next level of the tree\n",
        "    initIndex = endIndex\n",
        "    endIndex += 2**i\n",
        "    # Updating the spaces for the next level of the tree\n",
        "    begginingSpace = ((2 ** (h - i)) - 2) * \" \"\n",
        "    middleSpaces = ((2 ** (h + 1 - i)) - 3) * \" \"\n",
        "\n",
        "  # Finally, when we have the list with every level \n",
        "  # turned into a String, we print each one of the levels\n",
        "  for level in levels:\n",
        "    print(level)\n"
      ],
      "metadata": {
        "id": "Lk49z0eauiqQ"
      },
      "execution_count": null,
      "outputs": []
    },
    {
      "cell_type": "markdown",
      "source": [
        "Código en funcionamiento"
      ],
      "metadata": {
        "id": "2JSpo-BBusC_"
      }
    },
    {
      "cell_type": "code",
      "source": [
        "# This creates the root node of the tree\n",
        "root = newNode(int(input(\"Ingrese el valor raíz para la generación del árbol binario: \")),0)\n",
        "\n",
        "# This receives the amount of nodes of the Tree (without counting the root one)\n",
        "nNodes = int(input(\"\\nCantidad de nodos para la generación del árbol binario: \"))\n",
        "\n",
        "print()   # Line jump for nice formatting\n",
        "\n",
        "# This inserts nNodes nodes into the Tree\n",
        "for i in range(nNodes):\n",
        "  insert(root, int(input(f'Ingrese el valor {i+1}: ')), 0)\n",
        "\n",
        "# Enter the node we want to find the path of\n",
        "nodeToFind = int(input(\"\\nIngrese el valor que desea buscar en el árbol: \"))\n",
        "\n",
        "# This prints the path from the root node to the specified node\n",
        "path = iterativeSearch(root, nodeToFind)\n",
        "if path:\n",
        "    print(\"\\nLa ruta para llegar desde el origen al nodo con el valor\", nodeToFind, \"es:\")\n",
        "    print(\" - \".join(path))\n",
        "else:\n",
        "  print(\"\\nNo es posible encontrar el nodo especificado\")\n",
        "\n",
        "\n",
        "\n",
        "# This prints a drawing of the tree\n",
        "print(\"\\nGráfico del arbol:\")\n",
        "graphTree(root)\n"
      ],
      "metadata": {
        "colab": {
          "base_uri": "https://localhost:8080/"
        },
        "id": "iDkX1iW9unAZ",
        "outputId": "c12418b7-ff09-4677-9c19-bf67c0b94510"
      },
      "execution_count": null,
      "outputs": [
        {
          "output_type": "stream",
          "name": "stdout",
          "text": [
            "Ingrese el valor raíz para la generación del árbol binario: 5\n",
            "\n",
            "Cantidad de nodos para la generación del árbol binario: 6\n",
            "\n",
            "Ingrese el valor 1: 3\n",
            "Ingrese el valor 2: 2\n",
            "Ingrese el valor 3: 4\n",
            "Ingrese el valor 4: 8\n",
            "Ingrese el valor 5: 7\n",
            "Ingrese el valor 6: 9\n",
            "\n",
            "Ingrese el valor que desea buscar en el árbol: 7\n",
            "\n",
            "Gráfico de la ruta:\n",
            "      5  \n",
            "          8  \n",
            "        7      \n",
            "\n",
            "La ruta para llegar desde el origen al nodo con el valor 7 es:\n",
            "Derecha - Izquierda\n",
            "\n",
            "Gráfico del arbol:\n",
            "      5  \n",
            "  3       8  \n",
            "2   4   7   9  \n"
          ]
        }
      ]
    },
    {
      "cell_type": "markdown",
      "source": [
        "Complejidad Funcion **graphTree**"
      ],
      "metadata": {
        "id": "F-CPz5Lvv5XM"
      }
    },
    {
      "cell_type": "markdown",
      "source": [
        "**Nota:** Los puntos `...` representan líneas o bloques cuya complejidad es constante, se pueden obviar"
      ],
      "metadata": {
        "id": "T3Qz8ZrYyEwa"
      }
    },
    {
      "cell_type": "markdown",
      "source": [
        "```\n",
        "def graphTree(root):\n",
        "  ...\n",
        "  h = height(root)             ----------> O(n)\n",
        "  ...\n",
        "  while len(nodes) != 0:       ----------> O(n)\n",
        "      ... \n",
        "  ...\n",
        "  for i in range(1, h + 1):    ----------> O(n), ya que en el peor caso, h = n\n",
        "    ...\n",
        "\n",
        "  for level in levels:        ---------->  O(n), ya que en el peor caso, h = n\n",
        "    ...\n",
        "```\n",
        "\n",
        "**Total:**\n",
        "O(4n) = O(n), donde n es el número de nodos del arbol\n"
      ],
      "metadata": {
        "id": "CV_-DoCDv94X"
      }
    }
  ]
}